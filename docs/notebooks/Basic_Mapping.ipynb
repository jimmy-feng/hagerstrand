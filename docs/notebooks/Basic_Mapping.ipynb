{
 "cells": [
  {
   "cell_type": "markdown",
   "id": "later-worthy",
   "metadata": {},
   "source": [
    "## Basic Interactive Mapping with hagerstrand"
   ]
  },
  {
   "cell_type": "code",
   "execution_count": 1,
   "id": "representative-foundation",
   "metadata": {},
   "outputs": [],
   "source": [
    "import hagerstrand as hs\n",
    "import ee"
   ]
  },
  {
   "cell_type": "code",
   "execution_count": 2,
   "id": "whole-planning",
   "metadata": {},
   "outputs": [],
   "source": [
    "# Create interactive map with hagerstrand\n",
    "Map_hs = hs.Map(center=[23.1291,113.2644], zoom=4)"
   ]
  },
  {
   "cell_type": "code",
   "execution_count": 3,
   "id": "inclusive-architect",
   "metadata": {},
   "outputs": [],
   "source": [
    "# Initialize Earth Engine\n",
    "hs.ee_initialize()"
   ]
  },
  {
   "cell_type": "code",
   "execution_count": 4,
   "id": "congressional-fireplace",
   "metadata": {},
   "outputs": [],
   "source": [
    "# Center map\n",
    "Map_hs = hs.Map(center=[35.9606,-83.9207], zoom=10)"
   ]
  },
  {
   "cell_type": "code",
   "execution_count": 5,
   "id": "muslim-retirement",
   "metadata": {},
   "outputs": [],
   "source": [
    "# Add geojson to map\n",
    "Map_hs.add_geojson(\"../../examples/data/cbg_poi_lines.json\", layer_name=\"CBG to POI\")"
   ]
  },
  {
   "cell_type": "code",
   "execution_count": 6,
   "id": "clear-welcome",
   "metadata": {},
   "outputs": [],
   "source": [
    "#import os\n",
    "#os.chdir(\"C:/Users/jfeng/hagerstrand/docs/notebooks\")"
   ]
  },
  {
   "cell_type": "code",
   "execution_count": 7,
   "id": "statutory-australia",
   "metadata": {
    "scrolled": false
   },
   "outputs": [
    {
     "data": {
      "application/vnd.jupyter.widget-view+json": {
       "model_id": "22ea6d6320df4e96a432c6c6d534236a",
       "version_major": 2,
       "version_minor": 0
      },
      "text/plain": [
       "Map(center=[35.9606, -83.9207], controls=(ZoomControl(options=['position', 'zoom_in_text', 'zoom_in_title', 'z…"
      ]
     },
     "metadata": {},
     "output_type": "display_data"
    }
   ],
   "source": [
    "Map_hs"
   ]
  },
  {
   "cell_type": "markdown",
   "id": "systematic-baghdad",
   "metadata": {},
   "source": [
    "## Basic Interactive Mapping with geemap"
   ]
  },
  {
   "cell_type": "code",
   "execution_count": 8,
   "id": "divided-bathroom",
   "metadata": {},
   "outputs": [],
   "source": [
    "import geemap"
   ]
  },
  {
   "cell_type": "code",
   "execution_count": 9,
   "id": "straight-corpus",
   "metadata": {
    "scrolled": true
   },
   "outputs": [],
   "source": [
    "# Initialize Earth Engine\n",
    "geemap.ee_initialize()\n",
    "\n",
    "# Create interactive map with geemap\n",
    "Map_gee = geemap.Map(center=[23.1291,113.2644], zoom=4)"
   ]
  },
  {
   "cell_type": "code",
   "execution_count": 10,
   "id": "variable-macedonia",
   "metadata": {},
   "outputs": [],
   "source": [
    "# Add basemap\n",
    "Map_gee.add_basemap('Esri Transportation') # Esri Transportation"
   ]
  },
  {
   "cell_type": "code",
   "execution_count": 11,
   "id": "absolute-valuable",
   "metadata": {},
   "outputs": [],
   "source": [
    "# Focus on Guangzhou area\n",
    "geometry = ee.Geometry.Polygon(\n",
    "        [[[113.2644,25.1291],\n",
    "          [113.2644,23.1291],\n",
    "          [111.2644,21.1291],\n",
    "          [114.2644,23.1291]]])\n",
    "Map_gee.centerObject(ee.FeatureCollection(geometry), 10)"
   ]
  },
  {
   "cell_type": "code",
   "execution_count": 12,
   "id": "inner-cross",
   "metadata": {},
   "outputs": [],
   "source": [
    "# Adding a feature of China\n",
    "\n",
    "countries = ee.FeatureCollection(\"USDOS/LSIB_SIMPLE/2017\")\n",
    "country = countries.filter(ee.Filter.eq('country_na', 'China'))\n",
    "\n",
    "Map_gee.addLayer(country, { 'color': 'red' }, 'feature')"
   ]
  },
  {
   "cell_type": "code",
   "execution_count": 13,
   "id": "apparent-pizza",
   "metadata": {
    "scrolled": true
   },
   "outputs": [
    {
     "data": {
      "application/vnd.jupyter.widget-view+json": {
       "model_id": "8d7cdd27377b476eb71af1cd2ab18dfb",
       "version_major": 2,
       "version_minor": 0
      },
      "text/plain": [
       "Map(center=[23.135278011815647, 113.26115772821194], controls=(WidgetControl(options=['position', 'transparent…"
      ]
     },
     "metadata": {},
     "output_type": "display_data"
    }
   ],
   "source": [
    "Map_gee"
   ]
  },
  {
   "cell_type": "code",
   "execution_count": 14,
   "id": "russian-retirement",
   "metadata": {},
   "outputs": [],
   "source": [
    "#Map.setCenter(-74.0080, 40.637, 16) # I think the best egg tarts in NYC are at Xinfa Bakery in Brooklyn's Chinatown :-)"
   ]
  }
 ],
 "metadata": {
  "kernelspec": {
   "display_name": "Python 3",
   "language": "python",
   "name": "python3"
  },
  "language_info": {
   "codemirror_mode": {
    "name": "ipython",
    "version": 3
   },
   "file_extension": ".py",
   "mimetype": "text/x-python",
   "name": "python",
   "nbconvert_exporter": "python",
   "pygments_lexer": "ipython3",
   "version": "3.8.5"
  }
 },
 "nbformat": 4,
 "nbformat_minor": 5
}
