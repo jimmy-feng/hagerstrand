{
 "cells": [
  {
   "cell_type": "markdown",
   "id": "later-worthy",
   "metadata": {},
   "source": [
    "## Basic Interactive Mapping with hagerstrand"
   ]
  },
  {
   "cell_type": "code",
   "execution_count": 1,
   "id": "representative-foundation",
   "metadata": {},
   "outputs": [],
   "source": [
    "import hagerstrand as hs\n",
    "import ee"
   ]
  },
  {
   "cell_type": "code",
   "execution_count": 2,
   "id": "whole-planning",
   "metadata": {},
   "outputs": [],
   "source": [
    "# Create interactive map with hagerstrand\n",
    "Map_hs = hs.Map(center=[23.1291,113.2644], zoom=4)"
   ]
  },
  {
   "cell_type": "code",
   "execution_count": 3,
   "id": "inclusive-architect",
   "metadata": {},
   "outputs": [],
   "source": [
    "# Initialize Earth Engine\n",
    "hs.ee_initialize()"
   ]
  },
  {
   "cell_type": "code",
   "execution_count": 4,
   "id": "congressional-fireplace",
   "metadata": {},
   "outputs": [],
   "source": [
    "# Center map\n",
    "Map_hs = hs.Map(center=[35.9606,-83.9207], zoom=10)"
   ]
  },
  {
   "cell_type": "code",
   "execution_count": 5,
   "id": "statutory-australia",
   "metadata": {
    "scrolled": false
   },
   "outputs": [
    {
     "data": {
      "application/vnd.jupyter.widget-view+json": {
       "model_id": "8a9a3f8d04b445c2905b9ac46a447a31",
       "version_major": 2,
       "version_minor": 0
      },
      "text/plain": [
       "Map(center=[35.9606, -83.9207], controls=(ZoomControl(options=['position', 'zoom_in_text', 'zoom_in_title', 'z…"
      ]
     },
     "metadata": {},
     "output_type": "display_data"
    }
   ],
   "source": [
    "Map_hs"
   ]
  },
  {
   "cell_type": "markdown",
   "id": "returning-lyric",
   "metadata": {},
   "source": [
    "### Add a file to an interactive map"
   ]
  },
  {
   "cell_type": "code",
   "execution_count": 11,
   "id": "southern-danger",
   "metadata": {},
   "outputs": [
    {
     "data": {
      "text/html": [
       "<video src=\"../../examples/videos/Add_File.mp4\" controls  width=\"750\"  height=\"500\">\n",
       "      Your browser does not support the <code>video</code> element.\n",
       "    </video>"
      ],
      "text/plain": [
       "<IPython.core.display.Video object>"
      ]
     },
     "execution_count": 11,
     "metadata": {},
     "output_type": "execute_result"
    }
   ],
   "source": [
    "from IPython.display import Video\n",
    "\n",
    "Video(r\"../../examples/videos/Add_File.mp4\", height=500, width=750)"
   ]
  },
  {
   "cell_type": "markdown",
   "id": "streaming-beads",
   "metadata": {},
   "source": [
    "### Change basemap"
   ]
  },
  {
   "cell_type": "code",
   "execution_count": 12,
   "id": "disabled-battery",
   "metadata": {},
   "outputs": [
    {
     "data": {
      "text/html": [
       "<video src=\"../../examples/videos/Change_Basemap.mp4\" controls  width=\"750\"  height=\"500\">\n",
       "      Your browser does not support the <code>video</code> element.\n",
       "    </video>"
      ],
      "text/plain": [
       "<IPython.core.display.Video object>"
      ]
     },
     "execution_count": 12,
     "metadata": {},
     "output_type": "execute_result"
    }
   ],
   "source": [
    "Video(r\"../../examples/videos/Change_Basemap.mp4\", height=500, width=750)"
   ]
  },
  {
   "cell_type": "code",
   "execution_count": 7,
   "id": "muslim-retirement",
   "metadata": {},
   "outputs": [],
   "source": [
    "# Add geojson to map\n",
    "#Map_hs.add_geojson(\"../../examples/data/cbg_poi_lines.json\", layer_name=\"CBG to POI\")"
   ]
  },
  {
   "cell_type": "markdown",
   "id": "systematic-baghdad",
   "metadata": {},
   "source": [
    "## Basic Interactive Mapping with geemap"
   ]
  },
  {
   "cell_type": "code",
   "execution_count": 8,
   "id": "divided-bathroom",
   "metadata": {},
   "outputs": [],
   "source": [
    "import geemap"
   ]
  },
  {
   "cell_type": "code",
   "execution_count": 9,
   "id": "straight-corpus",
   "metadata": {
    "scrolled": true
   },
   "outputs": [],
   "source": [
    "# Initialize Earth Engine\n",
    "geemap.ee_initialize()\n",
    "\n",
    "# Create interactive map with geemap\n",
    "Map_gee = geemap.Map(center=[23.1291,113.2644], zoom=4)"
   ]
  },
  {
   "cell_type": "code",
   "execution_count": 10,
   "id": "variable-macedonia",
   "metadata": {},
   "outputs": [],
   "source": [
    "# Add basemap\n",
    "Map_gee.add_basemap('Esri Transportation') # Esri Transportation"
   ]
  },
  {
   "cell_type": "code",
   "execution_count": 11,
   "id": "absolute-valuable",
   "metadata": {},
   "outputs": [],
   "source": [
    "# Focus on Guangzhou area\n",
    "geometry = ee.Geometry.Polygon(\n",
    "        [[[113.2644,25.1291],\n",
    "          [113.2644,23.1291],\n",
    "          [111.2644,21.1291],\n",
    "          [114.2644,23.1291]]])\n",
    "Map_gee.centerObject(ee.FeatureCollection(geometry), 10)"
   ]
  },
  {
   "cell_type": "code",
   "execution_count": 12,
   "id": "inner-cross",
   "metadata": {},
   "outputs": [],
   "source": [
    "# Adding a feature of China\n",
    "\n",
    "countries = ee.FeatureCollection(\"USDOS/LSIB_SIMPLE/2017\")\n",
    "country = countries.filter(ee.Filter.eq('country_na', 'China'))\n",
    "\n",
    "Map_gee.addLayer(country, { 'color': 'red' }, 'feature')"
   ]
  },
  {
   "cell_type": "code",
   "execution_count": 13,
   "id": "apparent-pizza",
   "metadata": {
    "scrolled": true
   },
   "outputs": [
    {
     "data": {
      "application/vnd.jupyter.widget-view+json": {
       "model_id": "cd2eb79fdde540778f1f29d4542f1cb5",
       "version_major": 2,
       "version_minor": 0
      },
      "text/plain": [
       "Map(center=[23.135278011815647, 113.26115772821194], controls=(WidgetControl(options=['position', 'transparent…"
      ]
     },
     "metadata": {},
     "output_type": "display_data"
    }
   ],
   "source": [
    "Map_gee"
   ]
  },
  {
   "cell_type": "code",
   "execution_count": 14,
   "id": "russian-retirement",
   "metadata": {},
   "outputs": [],
   "source": [
    "#Map.setCenter(-74.0080, 40.637, 16) # I think the best egg tarts in NYC are at Xinfa Bakery in Brooklyn's Chinatown :-)"
   ]
  },
  {
   "cell_type": "code",
   "execution_count": 35,
   "id": "unlike-dressing",
   "metadata": {},
   "outputs": [
    {
     "data": {
      "text/plain": [
       "['All',\n",
       " '470930001001',\n",
       " '470930008001',\n",
       " '470930008002',\n",
       " '470930008003',\n",
       " '470930009011',\n",
       " '470930009021',\n",
       " '470930009022',\n",
       " '470930014001',\n",
       " '470930014002',\n",
       " '470930014003',\n",
       " '470930015001',\n",
       " '470930015002',\n",
       " '470930015003',\n",
       " '470930016001',\n",
       " '470930016002',\n",
       " '470930017001',\n",
       " '470930017002',\n",
       " '470930018001',\n",
       " '470930018002',\n",
       " '470930019001',\n",
       " '470930020001',\n",
       " '470930020002',\n",
       " '470930020003',\n",
       " '470930021001',\n",
       " '470930021002',\n",
       " '470930022001',\n",
       " '470930022002',\n",
       " '470930022003',\n",
       " '470930023001',\n",
       " '470930023002',\n",
       " '470930024001',\n",
       " '470930024002',\n",
       " '470930026001',\n",
       " '470930026002',\n",
       " '470930027001',\n",
       " '470930027002',\n",
       " '470930028001',\n",
       " '470930028002',\n",
       " '470930029001',\n",
       " '470930029002',\n",
       " '470930030001',\n",
       " '470930030002',\n",
       " '470930030003',\n",
       " '470930031001',\n",
       " '470930031002',\n",
       " '470930032001',\n",
       " '470930032002',\n",
       " '470930033001',\n",
       " '470930034001',\n",
       " '470930034002',\n",
       " '470930035001',\n",
       " '470930035002',\n",
       " '470930035003',\n",
       " '470930037001',\n",
       " '470930037002',\n",
       " '470930037003',\n",
       " '470930038011',\n",
       " '470930038012',\n",
       " '470930038013',\n",
       " '470930038021',\n",
       " '470930038022',\n",
       " '470930039011',\n",
       " '470930039012',\n",
       " '470930039021',\n",
       " '470930039022',\n",
       " '470930040001',\n",
       " '470930040002',\n",
       " '470930041001',\n",
       " '470930041002',\n",
       " '470930042001',\n",
       " '470930042002',\n",
       " '470930043001',\n",
       " '470930043002',\n",
       " '470930044011',\n",
       " '470930044012',\n",
       " '470930044031',\n",
       " '470930044032',\n",
       " '470930044033',\n",
       " '470930044041',\n",
       " '470930044042',\n",
       " '470930045001',\n",
       " '470930045002',\n",
       " '470930045003',\n",
       " '470930045004',\n",
       " '470930046061',\n",
       " '470930046062',\n",
       " '470930046063',\n",
       " '470930046071',\n",
       " '470930046072',\n",
       " '470930046081',\n",
       " '470930046082',\n",
       " '470930046091',\n",
       " '470930046092',\n",
       " '470930046093',\n",
       " '470930046101',\n",
       " '470930046102',\n",
       " '470930046103',\n",
       " '470930046111',\n",
       " '470930046112',\n",
       " '470930046121',\n",
       " '470930046131',\n",
       " '470930046132',\n",
       " '470930046141',\n",
       " '470930046142',\n",
       " '470930046151',\n",
       " '470930046152',\n",
       " '470930047001',\n",
       " '470930047002',\n",
       " '470930048001',\n",
       " '470930048002',\n",
       " '470930048003',\n",
       " '470930049001',\n",
       " '470930049002',\n",
       " '470930050001',\n",
       " '470930050002',\n",
       " '470930050003',\n",
       " '470930051001',\n",
       " '470930051002',\n",
       " '470930052011',\n",
       " '470930052012',\n",
       " '470930052013',\n",
       " '470930052021',\n",
       " '470930052022',\n",
       " '470930053011',\n",
       " '470930053012',\n",
       " '470930053013',\n",
       " '470930053021',\n",
       " '470930053022',\n",
       " '470930054011',\n",
       " '470930054012',\n",
       " '470930054021',\n",
       " '470930054022',\n",
       " '470930055011',\n",
       " '470930055012',\n",
       " '470930055021',\n",
       " '470930055022',\n",
       " '470930055023',\n",
       " '470930056021',\n",
       " '470930056022',\n",
       " '470930056031',\n",
       " '470930056032',\n",
       " '470930056041',\n",
       " '470930056042',\n",
       " '470930057011',\n",
       " '470930057012',\n",
       " '470930057013',\n",
       " '470930057041',\n",
       " '470930057042',\n",
       " '470930057043',\n",
       " '470930057061',\n",
       " '470930057062',\n",
       " '470930057071',\n",
       " '470930057072',\n",
       " '470930057081',\n",
       " '470930057091',\n",
       " '470930057101',\n",
       " '470930057102',\n",
       " '470930057111',\n",
       " '470930057112',\n",
       " '470930057121',\n",
       " '470930057122',\n",
       " '470930057123',\n",
       " '470930057124',\n",
       " '470930058031',\n",
       " '470930058071',\n",
       " '470930058081',\n",
       " '470930058082',\n",
       " '470930058091',\n",
       " '470930058092',\n",
       " '470930058101',\n",
       " '470930058102',\n",
       " '470930058111',\n",
       " '470930058121',\n",
       " '470930058131',\n",
       " '470930058132',\n",
       " '470930059031',\n",
       " '470930059032',\n",
       " '470930059041',\n",
       " '470930059042',\n",
       " '470930059043',\n",
       " '470930059051',\n",
       " '470930059061',\n",
       " '470930059071',\n",
       " '470930059081',\n",
       " '470930059082',\n",
       " '470930060011',\n",
       " '470930060021',\n",
       " '470930060022',\n",
       " '470930060023',\n",
       " '470930060031',\n",
       " '470930060032',\n",
       " '470930061021',\n",
       " '470930061022',\n",
       " '470930061023',\n",
       " '470930061031',\n",
       " '470930061032',\n",
       " '470930061033',\n",
       " '470930061041',\n",
       " '470930061042',\n",
       " '470930062021',\n",
       " '470930062022',\n",
       " '470930062031',\n",
       " '470930062032',\n",
       " '470930062033',\n",
       " '470930062051',\n",
       " '470930062052',\n",
       " '470930062061',\n",
       " '470930062062',\n",
       " '470930062071',\n",
       " '470930062081',\n",
       " '470930062082',\n",
       " '470930062083',\n",
       " '470930063011',\n",
       " '470930063012',\n",
       " '470930063021',\n",
       " '470930063022',\n",
       " '470930064011',\n",
       " '470930064012',\n",
       " '470930064021',\n",
       " '470930064022',\n",
       " '470930064031',\n",
       " '470930065011',\n",
       " '470930065012',\n",
       " '470930065021',\n",
       " '470930065022',\n",
       " '470930066001',\n",
       " '470930066002',\n",
       " '470930067001',\n",
       " '470930067002',\n",
       " '470930067003',\n",
       " '470930068001',\n",
       " '470930068002',\n",
       " '470930068003',\n",
       " '470930068004',\n",
       " '470930069001',\n",
       " '470930069002',\n",
       " '470930069003',\n",
       " '470930070001',\n",
       " '470930070002',\n",
       " '470930071001',\n",
       " '470930071002',\n",
       " '470930071003']"
      ]
     },
     "execution_count": 35,
     "metadata": {},
     "output_type": "execute_result"
    }
   ],
   "source": [
    "items = ['All'] + sorted(lines[\"GEOID\"].unique().tolist())\n"
   ]
  },
  {
   "cell_type": "code",
   "execution_count": 103,
   "id": "english-compound",
   "metadata": {},
   "outputs": [
    {
     "data": {
      "application/vnd.jupyter.widget-view+json": {
       "model_id": "",
       "version_major": 2,
       "version_minor": 0
      },
      "text/plain": [
       "interactive(children=(Select(description='x', options=('All', '470930001001', '470930008001', '470930008002', …"
      ]
     },
     "metadata": {},
     "output_type": "display_data"
    }
   ],
   "source": [
    "def view(x=''):\n",
    "    if x=='All': return lines\n",
    "    return lines[lines['GEOID']==x]\n",
    "\n",
    "def query_widget(val=''):\n",
    "\n",
    "    import ipywidgets as widgets\n",
    "    from ipywidgets import interact\n",
    "    from IPython.display import display\n",
    " \n",
    "    items = ['All'] + sorted(lines[\"GEOID\"].unique().tolist())\n",
    "    w = widgets.Select(options=items)\n",
    "    interact(view, x=w)\n",
    "\n",
    "query_widget()"
   ]
  },
  {
   "cell_type": "code",
   "execution_count": 114,
   "id": "concrete-independence",
   "metadata": {},
   "outputs": [],
   "source": [
    "def query_widget(df, col, val=''):\n",
    "\n",
    "    import ipywidgets as widgets\n",
    "    from ipywidgets import interact\n",
    "    from IPython.display import display\n",
    "    \n",
    "    def view(df=df, col=col, val=val):\n",
    "        if val=='All': return df\n",
    "        return df[df[col]==val]\n",
    "    \n",
    "    items = ['All'] + sorted(df[col].unique().tolist())\n",
    "\n",
    "    w = widgets.Select(options=items)\n",
    "    i = interact(view, x=w)"
   ]
  },
  {
   "cell_type": "code",
   "execution_count": 30,
   "id": "pleased-brazilian",
   "metadata": {},
   "outputs": [],
   "source": [
    "import geopandas as gpd\n",
    "lines = gpd.read_file(\"../../examples/data/cbg_poi_lines.json\")"
   ]
  },
  {
   "cell_type": "code",
   "execution_count": null,
   "id": "empirical-apache",
   "metadata": {},
   "outputs": [],
   "source": [
    "def view(df=df, col=col, val=val):\n",
    "    if val=='All': return df\n",
    "    return df[df[col]==val]"
   ]
  },
  {
   "cell_type": "code",
   "execution_count": 139,
   "id": "apparent-bobby",
   "metadata": {},
   "outputs": [
    {
     "data": {
      "application/vnd.jupyter.widget-view+json": {
       "model_id": "",
       "version_major": 2,
       "version_minor": 0
      },
      "text/plain": [
       "HBox(children=(Dropdown(description='Fields', index=7, layout=Layout(width='220px'), options=('Store_LON', 'ge…"
      ]
     },
     "metadata": {},
     "output_type": "display_data"
    }
   ],
   "source": [
    "def set_query_widget(df, col, val='All'):\n",
    "    \n",
    "    items = ['All'] + sorted(df[col].unique().tolist())\n",
    "    \n",
    "    dropdown_columns = widgets.Dropdown(\n",
    "            options=list(set(df.columns.values)),\n",
    "            value=col,\n",
    "            layout=widgets.Layout(width=\"220px\"),\n",
    "            description=\"Fields\"\n",
    "        )\n",
    "    \n",
    "    dropdown_values = widgets.Dropdown(\n",
    "        options = sorted(list(set(df[col]))),\n",
    "        value = sorted(list(set(df[col])))[0],\n",
    "        layout=widgets.Layout(width=\"220px\"),\n",
    "        description=\"Values\"\n",
    "    )\n",
    "    \n",
    "    close_button_query = widgets.Button(\n",
    "        icon=\"times\",\n",
    "        tooltip=\"Close the query widget\",\n",
    "        button_style=\"primary\",\n",
    "        layout=widgets.Layout(width=\"32px\")\n",
    "    )\n",
    "    \n",
    "    query_widget = widgets.HBox([dropdown_columns, dropdown_values, close_button_query])\n",
    "    return query_widget\n",
    "\n",
    "    def on_click_col(change):\n",
    "        return change[\"new\"]\n",
    "\n",
    "set_query_widget(lines, \"GEOID\")  "
   ]
  },
  {
   "cell_type": "code",
   "execution_count": 119,
   "id": "smooth-remove",
   "metadata": {},
   "outputs": [
    {
     "data": {
      "application/vnd.jupyter.widget-view+json": {
       "model_id": "",
       "version_major": 2,
       "version_minor": 0
      },
      "text/plain": [
       "Dropdown(options=('470930001001', '470930008001', '470930008002', '470930008003', '470930009011', '47093000902…"
      ]
     },
     "metadata": {},
     "output_type": "display_data"
    }
   ],
   "source": [
    "def query_widget(df, col):\n",
    "    dropdown = widgets.Dropdown(options = sorted(list(set(df[col]))))\n",
    "    return dropdown\n",
    "\n",
    "query_widget(lines, \"GEOID\")"
   ]
  },
  {
   "cell_type": "code",
   "execution_count": 150,
   "id": "confidential-tobacco",
   "metadata": {},
   "outputs": [
    {
     "data": {
      "application/vnd.jupyter.widget-view+json": {
       "model_id": "",
       "version_major": 2,
       "version_minor": 0
      },
      "text/plain": [
       "interactive(children=(Dropdown(description='df', options=('PlusCode', 'Visitors', 'Total_TravelTime', 'Store_N…"
      ]
     },
     "metadata": {},
     "output_type": "display_data"
    }
   ],
   "source": [
    "@interact\n",
    "def show_col_values(df=lines, col=\"GEOID\"):\n",
    "    x = sorted(list(set(df[col])))\n",
    "    return df.loc[df[col] == x]"
   ]
  },
  {
   "cell_type": "code",
   "execution_count": 148,
   "id": "distributed-friendship",
   "metadata": {},
   "outputs": [
    {
     "ename": "SyntaxError",
     "evalue": "invalid syntax (<ipython-input-148-024811b10fad>, line 2)",
     "output_type": "error",
     "traceback": [
      "\u001b[1;36m  File \u001b[1;32m\"<ipython-input-148-024811b10fad>\"\u001b[1;36m, line \u001b[1;32m2\u001b[0m\n\u001b[1;33m    show_col_values(lines, \"GEOID\")\u001b[0m\n\u001b[1;37m    ^\u001b[0m\n\u001b[1;31mSyntaxError\u001b[0m\u001b[1;31m:\u001b[0m invalid syntax\n"
     ]
    }
   ],
   "source": [
    "@interact\n",
    "show_col_values(lines, \"GEOID\")"
   ]
  }
 ],
 "metadata": {
  "kernelspec": {
   "display_name": "Python 3",
   "language": "python",
   "name": "python3"
  },
  "language_info": {
   "codemirror_mode": {
    "name": "ipython",
    "version": 3
   },
   "file_extension": ".py",
   "mimetype": "text/x-python",
   "name": "python",
   "nbconvert_exporter": "python",
   "pygments_lexer": "ipython3",
   "version": "3.8.5"
  }
 },
 "nbformat": 4,
 "nbformat_minor": 5
}
