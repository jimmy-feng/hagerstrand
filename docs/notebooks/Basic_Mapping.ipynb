{
 "cells": [
  {
   "cell_type": "code",
   "execution_count": 8,
   "id": "representative-foundation",
   "metadata": {},
   "outputs": [],
   "source": [
    "import hagerstrand as hs\n",
    "import geemap\n",
    "import ee"
   ]
  },
  {
   "cell_type": "code",
   "execution_count": 9,
   "id": "adult-rebecca",
   "metadata": {},
   "outputs": [],
   "source": [
    "# Create interactive map with hagerstrand\n",
    "Map_hs = hs.Map(center=[23.1291,113.2644], zoom=4)"
   ]
  },
  {
   "cell_type": "code",
   "execution_count": 10,
   "id": "straight-corpus",
   "metadata": {
    "scrolled": true
   },
   "outputs": [],
   "source": [
    "# Create interactive map with geemap\n",
    "Map_gee = geemap.Map(center=[23.1291,113.2644], zoom=4)"
   ]
  },
  {
   "cell_type": "code",
   "execution_count": 11,
   "id": "inclusive-architect",
   "metadata": {},
   "outputs": [],
   "source": [
    "# Initialize Earth Engine\n",
    "hs.ee_initialize()\n",
    "geemap.ee_initialize()"
   ]
  },
  {
   "cell_type": "code",
   "execution_count": 12,
   "id": "variable-macedonia",
   "metadata": {},
   "outputs": [],
   "source": [
    "# Add basemap\n",
    "Map_gee.add_basemap('Esri Transportation') # Esri Transportation"
   ]
  },
  {
   "cell_type": "code",
   "execution_count": 13,
   "id": "absolute-valuable",
   "metadata": {},
   "outputs": [],
   "source": [
    "# Focus on Guangzhou area\n",
    "geometry = ee.Geometry.Polygon(\n",
    "        [[[113.2644,25.1291],\n",
    "          [113.2644,23.1291],\n",
    "          [111.2644,21.1291],\n",
    "          [114.2644,23.1291]]])\n",
    "Map_hs.centerObject(ee.FeatureCollection(geometry), 10)"
   ]
  },
  {
   "cell_type": "code",
   "execution_count": 14,
   "id": "perfect-tumor",
   "metadata": {
    "scrolled": true
   },
   "outputs": [
    {
     "data": {
      "application/vnd.jupyter.widget-view+json": {
       "model_id": "089445d289644821b249055610b08e08",
       "version_major": 2,
       "version_minor": 0
      },
      "text/plain": [
       "Map(bottom=114442.0, center=[22.636372203387523, 113.1001382612683], controls=(ZoomControl(options=['position'…"
      ]
     },
     "metadata": {},
     "output_type": "display_data"
    }
   ],
   "source": [
    "Map"
   ]
  },
  {
   "cell_type": "code",
   "execution_count": 15,
   "id": "inner-cross",
   "metadata": {},
   "outputs": [],
   "source": [
    "# Adding a feature of China\n",
    "\n",
    "countries = ee.FeatureCollection(\"USDOS/LSIB_SIMPLE/2017\")\n",
    "country = countries.filter(ee.Filter.eq('country_na', 'China'))\n",
    "\n",
    "Map_gee.addLayer(country, { 'color': 'red' }, 'feature')"
   ]
  },
  {
   "cell_type": "code",
   "execution_count": 16,
   "id": "apparent-pizza",
   "metadata": {
    "scrolled": true
   },
   "outputs": [
    {
     "data": {
      "application/vnd.jupyter.widget-view+json": {
       "model_id": "d68cafcdda7d40a8aa29142cf8e9c63b",
       "version_major": 2,
       "version_minor": 0
      },
      "text/plain": [
       "Map(center=[23.1291, 113.2644], controls=(WidgetControl(options=['position', 'transparent_bg'], widget=HBox(ch…"
      ]
     },
     "metadata": {},
     "output_type": "display_data"
    }
   ],
   "source": [
    "Map_gee"
   ]
  },
  {
   "cell_type": "code",
   "execution_count": 17,
   "id": "russian-retirement",
   "metadata": {},
   "outputs": [],
   "source": [
    "#Map.setCenter(-74.0080, 40.637, 16) # I think the best egg tarts in NYC are at Xinfa Bakery in Brooklyn's Chinatown :-)"
   ]
  },
  {
   "cell_type": "code",
   "execution_count": null,
   "id": "paperback-upgrade",
   "metadata": {},
   "outputs": [],
   "source": []
  },
  {
   "cell_type": "code",
   "execution_count": null,
   "id": "special-underwear",
   "metadata": {},
   "outputs": [],
   "source": []
  }
 ],
 "metadata": {
  "kernelspec": {
   "display_name": "Python 3",
   "language": "python",
   "name": "python3"
  },
  "language_info": {
   "codemirror_mode": {
    "name": "ipython",
    "version": 3
   },
   "file_extension": ".py",
   "mimetype": "text/x-python",
   "name": "python",
   "nbconvert_exporter": "python",
   "pygments_lexer": "ipython3",
   "version": "3.8.5"
  }
 },
 "nbformat": 4,
 "nbformat_minor": 5
}
