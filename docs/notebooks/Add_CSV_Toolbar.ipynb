{
 "cells": [
  {
   "cell_type": "code",
   "execution_count": 1,
   "id": "stock-moscow",
   "metadata": {},
   "outputs": [],
   "source": [
    "import hagerstrand as hs"
   ]
  },
  {
   "cell_type": "code",
   "execution_count": 2,
   "id": "incorrect-texas",
   "metadata": {},
   "outputs": [],
   "source": [
    "Map_hs = hs.Map()"
   ]
  },
  {
   "cell_type": "code",
   "execution_count": 3,
   "id": "artistic-cheat",
   "metadata": {
    "scrolled": false
   },
   "outputs": [
    {
     "data": {
      "application/vnd.jupyter.widget-view+json": {
       "model_id": "6769d57f77374a98a10617d3d2f5adaa",
       "version_major": 2,
       "version_minor": 0
      },
      "text/plain": [
       "Map(center=[40, -100], controls=(ZoomControl(options=['position', 'zoom_in_text', 'zoom_in_title', 'zoom_out_t…"
      ]
     },
     "metadata": {},
     "output_type": "display_data"
    }
   ],
   "source": [
    "Map_hs"
   ]
  }
 ],
 "metadata": {
  "kernelspec": {
   "display_name": "Python 3",
   "language": "python",
   "name": "python3"
  },
  "language_info": {
   "codemirror_mode": {
    "name": "ipython",
    "version": 3
   },
   "file_extension": ".py",
   "mimetype": "text/x-python",
   "name": "python",
   "nbconvert_exporter": "python",
   "pygments_lexer": "ipython3",
   "version": "3.8.5"
  }
 },
 "nbformat": 4,
 "nbformat_minor": 5
}
