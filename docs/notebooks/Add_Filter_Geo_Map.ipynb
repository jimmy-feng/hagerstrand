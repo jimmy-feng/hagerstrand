{
 "cells": [
  {
   "cell_type": "markdown",
   "id": "seventh-lover",
   "metadata": {},
   "source": [
    "### Import libraries"
   ]
  },
  {
   "cell_type": "code",
   "execution_count": 1,
   "id": "guided-float",
   "metadata": {
    "scrolled": false
   },
   "outputs": [],
   "source": [
    "import geopandas as gpd\n",
    "import ipywidgets as widgets\n",
    "from IPython.display import display\n",
    "import hagerstrand as hs\n",
    "import pandas as pd\n",
    "import ipyleaflet"
   ]
  },
  {
   "cell_type": "markdown",
   "id": "approved-analyst",
   "metadata": {},
   "source": [
    "### Load data as (Geo)DataFrame"
   ]
  },
  {
   "cell_type": "code",
   "execution_count": 2,
   "id": "identified-skill",
   "metadata": {
    "scrolled": true
   },
   "outputs": [],
   "source": [
    "lines = gpd.read_file(\"../../examples/data/cbg_poi_lines.json\")"
   ]
  },
  {
   "cell_type": "markdown",
   "id": "acknowledged-amount",
   "metadata": {},
   "source": [
    "### Deduplicate rows"
   ]
  },
  {
   "cell_type": "code",
   "execution_count": 3,
   "id": "ignored-notebook",
   "metadata": {},
   "outputs": [],
   "source": [
    "lines = hs.ExtendedDataFrame(lines)\n",
    "\n",
    "lines = lines.deduplicate([\"PlusCode\", \"GEOID\"])"
   ]
  },
  {
   "cell_type": "markdown",
   "id": "turkish-hungarian",
   "metadata": {},
   "source": [
    "### Set variables"
   ]
  },
  {
   "cell_type": "code",
   "execution_count": 4,
   "id": "compound-cleaners",
   "metadata": {},
   "outputs": [],
   "source": [
    "df = lines.copy()\n",
    "field = \"GEOID\""
   ]
  },
  {
   "cell_type": "markdown",
   "id": "diverse-reasoning",
   "metadata": {},
   "source": [
    "### Filter a (Geo)DataFrame based on a single value in a column"
   ]
  },
  {
   "cell_type": "code",
   "execution_count": 5,
   "id": "ideal-convenience",
   "metadata": {
    "scrolled": false
   },
   "outputs": [
    {
     "data": {
      "application/vnd.jupyter.widget-view+json": {
       "model_id": "2e8b23f6e0ce484d9d0298c588676e16",
       "version_major": 2,
       "version_minor": 0
      },
      "text/plain": [
       "HBox(children=(Dropdown(description='GEOID', layout=Layout(width='200px'), options=('ALL', '470930001001', '47…"
      ]
     },
     "metadata": {},
     "output_type": "display_data"
    },
    {
     "data": {
      "application/vnd.jupyter.widget-view+json": {
       "model_id": "da4829c3011b4242847ab43ba6332db5",
       "version_major": 2,
       "version_minor": 0
      },
      "text/plain": [
       "Output()"
      ]
     },
     "metadata": {},
     "output_type": "display_data"
    }
   ],
   "source": [
    "hs.filter_df_widget(df=df, field=field)"
   ]
  },
  {
   "cell_type": "markdown",
   "id": "healthy-swimming",
   "metadata": {},
   "source": [
    "### Center map and initialize Google Earth Engine"
   ]
  },
  {
   "cell_type": "code",
   "execution_count": 6,
   "id": "logical-maine",
   "metadata": {},
   "outputs": [],
   "source": [
    "Map_hs = hs.Map(center=[35.9606,-83.9207], zoom=10) # Create map instance\n",
    "hs.ee_initialize() # Initialize Google Earth Engine"
   ]
  },
  {
   "cell_type": "markdown",
   "id": "expired-snapshot",
   "metadata": {},
   "source": [
    "### Add a GeoDataFrame to the map"
   ]
  },
  {
   "cell_type": "code",
   "execution_count": 7,
   "id": "union-penguin",
   "metadata": {},
   "outputs": [],
   "source": [
    "linez = gpd.GeoDataFrame(df)"
   ]
  },
  {
   "cell_type": "code",
   "execution_count": 8,
   "id": "entitled-logan",
   "metadata": {},
   "outputs": [],
   "source": [
    "Map_hs.add_gdf(linez)"
   ]
  },
  {
   "cell_type": "markdown",
   "id": "raised-bulgarian",
   "metadata": {},
   "source": [
    "### Load interactive map"
   ]
  },
  {
   "cell_type": "code",
   "execution_count": 9,
   "id": "sharp-introduction",
   "metadata": {
    "scrolled": true
   },
   "outputs": [
    {
     "data": {
      "application/vnd.jupyter.widget-view+json": {
       "model_id": "07a30f479c1f478faa77a182a7c3aa4b",
       "version_major": 2,
       "version_minor": 0
      },
      "text/plain": [
       "Map(center=[35.9606, -83.9207], controls=(ZoomControl(options=['position', 'zoom_in_text', 'zoom_in_title', 'z…"
      ]
     },
     "metadata": {},
     "output_type": "display_data"
    }
   ],
   "source": [
    "Map_hs"
   ]
  },
  {
   "cell_type": "markdown",
   "id": "comparative-creation",
   "metadata": {},
   "source": [
    "### Longer way of converting geopandas GeoDataFrame to the map based on ipyleaflet functions"
   ]
  },
  {
   "cell_type": "markdown",
   "id": "general-sphere",
   "metadata": {},
   "source": [
    "### Convert a pandas DataFrame to a GeoJSON"
   ]
  },
  {
   "cell_type": "code",
   "execution_count": 12,
   "id": "balanced-nursing",
   "metadata": {
    "scrolled": true
   },
   "outputs": [],
   "source": [
    "hs.df_to_geojson(df, properties, vector_geom='LineString', coords=[\"geometry\"], out_geojson=\"../../data/sample.geojson\")"
   ]
  },
  {
   "cell_type": "markdown",
   "id": "suffering-repeat",
   "metadata": {},
   "source": [
    "### Convert a pandas GeoDataFrame into an ipyleaflet.GeoData object that can be added to a map"
   ]
  },
  {
   "cell_type": "code",
   "execution_count": 13,
   "id": "handled-invalid",
   "metadata": {},
   "outputs": [],
   "source": [
    "linez_geoData = ipyleaflet.GeoData(geo_dataframe=linez, name=\"CBG to Store Connections\")\n",
    "Map_hs.add_layer(linez_geoData)"
   ]
  },
  {
   "cell_type": "code",
   "execution_count": null,
   "id": "occupied-tours",
   "metadata": {},
   "outputs": [],
   "source": [
    "Map_hs"
   ]
  }
 ],
 "metadata": {
  "kernelspec": {
   "display_name": "Python 3",
   "language": "python",
   "name": "python3"
  },
  "language_info": {
   "codemirror_mode": {
    "name": "ipython",
    "version": 3
   },
   "file_extension": ".py",
   "mimetype": "text/x-python",
   "name": "python",
   "nbconvert_exporter": "python",
   "pygments_lexer": "ipython3",
   "version": "3.8.5"
  }
 },
 "nbformat": 4,
 "nbformat_minor": 5
}
