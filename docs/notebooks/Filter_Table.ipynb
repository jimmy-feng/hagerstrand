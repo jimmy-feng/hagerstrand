{
 "cells": [
  {
   "cell_type": "markdown",
   "id": "seventh-lover",
   "metadata": {},
   "source": [
    "### Import libraries"
   ]
  },
  {
   "cell_type": "code",
   "execution_count": 1,
   "id": "guided-float",
   "metadata": {
    "scrolled": false
   },
   "outputs": [],
   "source": [
    "import geopandas as gpd\n",
    "import ipywidgets as widgets\n",
    "from IPython.display import display\n",
    "import hagerstrand as hs\n",
    "import pandas as pd\n",
    "import ipyleaflet"
   ]
  },
  {
   "cell_type": "markdown",
   "id": "approved-analyst",
   "metadata": {},
   "source": [
    "### Load data as (Geo)DataFrame"
   ]
  },
  {
   "cell_type": "code",
   "execution_count": 2,
   "id": "identified-skill",
   "metadata": {
    "scrolled": true
   },
   "outputs": [],
   "source": [
    "lines = gpd.read_file(\"../../examples/data/cbg_poi_lines.json\")"
   ]
  },
  {
   "cell_type": "markdown",
   "id": "acknowledged-amount",
   "metadata": {},
   "source": [
    "### Deduplicate rows"
   ]
  },
  {
   "cell_type": "code",
   "execution_count": 3,
   "id": "ignored-notebook",
   "metadata": {},
   "outputs": [],
   "source": [
    "lines = hs.ExtendedDataFrame(lines)\n",
    "\n",
    "lines = lines.deduplicate([\"PlusCode\", \"GEOID\"])"
   ]
  },
  {
   "cell_type": "markdown",
   "id": "turkish-hungarian",
   "metadata": {},
   "source": [
    "### Set variables"
   ]
  },
  {
   "cell_type": "code",
   "execution_count": 4,
   "id": "compound-cleaners",
   "metadata": {},
   "outputs": [],
   "source": [
    "df = lines.copy()\n",
    "field = \"GEOID\""
   ]
  },
  {
   "cell_type": "markdown",
   "id": "diverse-reasoning",
   "metadata": {},
   "source": [
    "### Filter a (Geo)DataFrame based on a single value in a column"
   ]
  },
  {
   "cell_type": "code",
   "execution_count": 5,
   "id": "ideal-convenience",
   "metadata": {
    "scrolled": false
   },
   "outputs": [
    {
     "data": {
      "application/vnd.jupyter.widget-view+json": {
       "model_id": "dd6938a095df45a89c208bc3a84de420",
       "version_major": 2,
       "version_minor": 0
      },
      "text/plain": [
       "HBox(children=(Dropdown(description='GEOID', layout=Layout(width='200px'), options=('ALL', '470930001001', '47…"
      ]
     },
     "metadata": {},
     "output_type": "display_data"
    },
    {
     "data": {
      "application/vnd.jupyter.widget-view+json": {
       "model_id": "b71e7d7b2adf42eab0b00b1c61aebb60",
       "version_major": 2,
       "version_minor": 0
      },
      "text/plain": [
       "Output()"
      ]
     },
     "metadata": {},
     "output_type": "display_data"
    }
   ],
   "source": [
    "hs.filter_df_widget(df=df, field=field)"
   ]
  },
  {
   "cell_type": "code",
   "execution_count": 6,
   "id": "logical-maine",
   "metadata": {},
   "outputs": [],
   "source": [
    "Map_hs = hs.Map(center=[35.9606,-83.9207], zoom=10) # Create map instance\n",
    "hs.ee_initialize() # Initialize Google Earth Engine"
   ]
  },
  {
   "cell_type": "code",
   "execution_count": 7,
   "id": "union-penguin",
   "metadata": {},
   "outputs": [],
   "source": [
    "linez = gpd.GeoDataFrame(lines.copy())"
   ]
  },
  {
   "cell_type": "code",
   "execution_count": 8,
   "id": "entitled-logan",
   "metadata": {},
   "outputs": [],
   "source": [
    "Map_hs.add_gdf(linez)"
   ]
  },
  {
   "cell_type": "code",
   "execution_count": 9,
   "id": "sharp-introduction",
   "metadata": {
    "scrolled": false
   },
   "outputs": [
    {
     "data": {
      "application/vnd.jupyter.widget-view+json": {
       "model_id": "72f6630398d940c1a4e473679a6dc490",
       "version_major": 2,
       "version_minor": 0
      },
      "text/plain": [
       "Map(center=[35.9606, -83.9207], controls=(ZoomControl(options=['position', 'zoom_in_text', 'zoom_in_title', 'z…"
      ]
     },
     "metadata": {},
     "output_type": "display_data"
    }
   ],
   "source": [
    "Map_hs # Load interactive map"
   ]
  },
  {
   "cell_type": "code",
   "execution_count": 15,
   "id": "certified-chemistry",
   "metadata": {},
   "outputs": [],
   "source": [
    "d = ipyleaflet.GeoJSON(data=geojson)\n",
    "Map_hs.add_layer(d)"
   ]
  },
  {
   "cell_type": "code",
   "execution_count": null,
   "id": "silent-spelling",
   "metadata": {},
   "outputs": [],
   "source": [
    "def gdf_to_geojson(in_gdf, vector_geom, out_geojson=None):\n",
    "    \n",
    "    import geopandas as gpd\n",
    "    \n",
    "    if not isinstance(in_gdf, gpd.GeoDataFrame):\n",
    "        error_str = \"\\n\\nThe argument for in_gdf must be an instance of a geopandas.GeoDataFrame or hagerstrand.ExtendedDataFrame\"\n",
    "        raise AttributeError(error_str)\n",
    "    \n",
    "    if isinstance(in_gdf, gpd.GeoDataFrame) or isinstance(in_gdf, hs.ExtendedDataFrame):\n",
    "        if out_geojson is None:\n",
    "            return \n",
    "        else:\n",
    "            out_geojson = os.path.abspath(out_geojson)\n",
    "            out_dir = os.path.dirname(out_geojson)\n",
    "            if not os.path.exists(out_dir):\n",
    "                os.makedirs(out_dir)\n",
    "            with open(out_geojson, \"w\") as f:\n",
    "                f.write(in_gdf.to_json())         "
   ]
  },
  {
   "cell_type": "code",
   "execution_count": 12,
   "id": "balanced-nursing",
   "metadata": {
    "scrolled": true
   },
   "outputs": [],
   "source": [
    "hs.df_to_geojson(df, properties, vector_geom='LineString', coords=[\"geometry\"], out_geojson=\"../../data/sample.geojson\")"
   ]
  },
  {
   "cell_type": "code",
   "execution_count": null,
   "id": "removable-stocks",
   "metadata": {},
   "outputs": [],
   "source": [
    "gpd.GeoDataFrame.from_features(Map_hs.layers[3].data)"
   ]
  },
  {
   "cell_type": "code",
   "execution_count": null,
   "id": "cloudy-letter",
   "metadata": {},
   "outputs": [],
   "source": [
    "Map_hs.layers[3].data.unique().tolist().sort().insert(0, 'ALL')"
   ]
  },
  {
   "cell_type": "code",
   "execution_count": 13,
   "id": "handled-invalid",
   "metadata": {},
   "outputs": [],
   "source": [
    "linez_geoData = ipyleaflet.GeoData(geo_dataframe=linez, name=\"CBG to Store Connections\")\n",
    "Map_hs.add_layer(linez_geoData)"
   ]
  },
  {
   "cell_type": "code",
   "execution_count": null,
   "id": "educational-tuner",
   "metadata": {},
   "outputs": [],
   "source": []
  }
 ],
 "metadata": {
  "kernelspec": {
   "display_name": "Python 3",
   "language": "python",
   "name": "python3"
  },
  "language_info": {
   "codemirror_mode": {
    "name": "ipython",
    "version": 3
   },
   "file_extension": ".py",
   "mimetype": "text/x-python",
   "name": "python",
   "nbconvert_exporter": "python",
   "pygments_lexer": "ipython3",
   "version": "3.8.5"
  }
 },
 "nbformat": 4,
 "nbformat_minor": 5
}
