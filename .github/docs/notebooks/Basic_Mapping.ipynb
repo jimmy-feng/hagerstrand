{
 "cells": [
  {
   "cell_type": "code",
   "execution_count": 1,
   "id": "representative-foundation",
   "metadata": {},
   "outputs": [],
   "source": [
    "import geemap\n",
    "import ee"
   ]
  },
  {
   "cell_type": "code",
   "execution_count": 11,
   "id": "straight-corpus",
   "metadata": {
    "scrolled": true
   },
   "outputs": [],
   "source": [
    "# Create interactive map\n",
    "Map = geemap.Map(center=[23.1291,113.2644], zoom=4)"
   ]
  },
  {
   "cell_type": "code",
   "execution_count": 12,
   "id": "variable-macedonia",
   "metadata": {},
   "outputs": [],
   "source": [
    "# Add basemap\n",
    "Map.add_basemap('Esri Transportation') # Esri Transportation"
   ]
  },
  {
   "cell_type": "code",
   "execution_count": 13,
   "id": "absolute-valuable",
   "metadata": {},
   "outputs": [],
   "source": [
    "# Focus on Guangzhou area\n",
    "geometry = ee.Geometry.Polygon(\n",
    "        [[[113.2644,25.1291],\n",
    "          [113.2644,23.1291],\n",
    "          [111.2644,21.1291],\n",
    "          [114.2644,23.1291]]])\n",
    "Map.centerObject(ee.FeatureCollection(geometry), 10)"
   ]
  },
  {
   "cell_type": "code",
   "execution_count": 15,
   "id": "inner-cross",
   "metadata": {},
   "outputs": [],
   "source": [
    "# Adding a feature of China\n",
    "\n",
    "countries = ee.FeatureCollection(\"USDOS/LSIB_SIMPLE/2017\")\n",
    "country = countries.filter(ee.Filter.eq('country_na', 'China'))\n",
    "\n",
    "Map.addLayer(country, { 'color': 'red' }, 'feature')"
   ]
  },
  {
   "cell_type": "code",
   "execution_count": 14,
   "id": "apparent-pizza",
   "metadata": {
    "scrolled": true
   },
   "outputs": [
    {
     "data": {
      "application/vnd.jupyter.widget-view+json": {
       "model_id": "b8f1d4a8f0fd491a85b77f034f618599",
       "version_major": 2,
       "version_minor": 0
      },
      "text/plain": [
       "Map(center=[23.135278011815647, 113.26115772821194], controls=(WidgetControl(options=['position', 'transparent…"
      ]
     },
     "metadata": {},
     "output_type": "display_data"
    }
   ],
   "source": [
    "Map"
   ]
  },
  {
   "cell_type": "code",
   "execution_count": 16,
   "id": "russian-retirement",
   "metadata": {},
   "outputs": [],
   "source": [
    "Map.setCenter(-74.0080, 40.637, 16) # I think the best egg tarts in NYC are at Xinfa Bakery in Brooklyn's Chinatown :-)"
   ]
  },
  {
   "cell_type": "code",
   "execution_count": null,
   "id": "paperback-upgrade",
   "metadata": {},
   "outputs": [],
   "source": []
  }
 ],
 "metadata": {
  "kernelspec": {
   "display_name": "Python 3",
   "language": "python",
   "name": "python3"
  },
  "language_info": {
   "codemirror_mode": {
    "name": "ipython",
    "version": 3
   },
   "file_extension": ".py",
   "mimetype": "text/x-python",
   "name": "python",
   "nbconvert_exporter": "python",
   "pygments_lexer": "ipython3",
   "version": "3.9.1"
  }
 },
 "nbformat": 4,
 "nbformat_minor": 5
}
