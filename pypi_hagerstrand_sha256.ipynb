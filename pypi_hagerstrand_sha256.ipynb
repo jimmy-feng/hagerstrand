{
  "nbformat": 4,
  "nbformat_minor": 0,
  "metadata": {
    "colab": {
      "name": "pypi sha256",
      "provenance": [],
      "include_colab_link": true
    },
    "kernelspec": {
      "display_name": "Python 3",
      "name": "python3"
    }
  },
  "cells": [
    {
      "cell_type": "markdown",
      "metadata": {
        "id": "view-in-github",
        "colab_type": "text"
      },
      "source": [
        "<a href=\"https://colab.research.google.com/github/jimmy-feng/hagerstrand/blob/main/pypi_hagerstrand_sha256.ipynb\" target=\"_parent\"><img src=\"https://colab.research.google.com/assets/colab-badge.svg\" alt=\"Open In Colab\"/></a>"
      ]
    },
    {
      "cell_type": "code",
      "metadata": {
        "colab": {
          "base_uri": "https://localhost:8080/"
        },
        "id": "lIYdn1woOS1n",
        "outputId": "8061ff8b-5142-46e7-93ae-4aada5aa1529"
      },
      "source": [
        "!wget https://files.pythonhosted.org/packages/78/54/4f082e2655dab192a281e30a9ba7e22b7a03d4fff888cc7e230f23f99c74/hagerstrand-0.0.7.tar.gz"
      ],
      "execution_count": 1,
      "outputs": [
        {
          "output_type": "stream",
          "text": [
            "--2021-03-30 18:47:42--  https://files.pythonhosted.org/packages/78/54/4f082e2655dab192a281e30a9ba7e22b7a03d4fff888cc7e230f23f99c74/hagerstrand-0.0.7.tar.gz\n",
            "Resolving files.pythonhosted.org (files.pythonhosted.org)... 151.101.1.63, 151.101.65.63, 151.101.129.63, ...\n",
            "Connecting to files.pythonhosted.org (files.pythonhosted.org)|151.101.1.63|:443... connected.\n",
            "HTTP request sent, awaiting response... 200 OK\n",
            "Length: 11191 (11K) [application/x-tar]\n",
            "Saving to: ‘hagerstrand-0.0.7.tar.gz’\n",
            "\n",
            "\rhagerstrand-0.0.7.t   0%[                    ]       0  --.-KB/s               \rhagerstrand-0.0.7.t 100%[===================>]  10.93K  --.-KB/s    in 0s      \n",
            "\n",
            "2021-03-30 18:47:42 (43.6 MB/s) - ‘hagerstrand-0.0.7.tar.gz’ saved [11191/11191]\n",
            "\n"
          ],
          "name": "stdout"
        }
      ]
    },
    {
      "cell_type": "code",
      "metadata": {
        "id": "zwPSG_xMINnG",
        "colab": {
          "base_uri": "https://localhost:8080/"
        },
        "outputId": "0fd1b514-7941-43a9-87ca-30e72ecc8106"
      },
      "source": [
        "!sha256sum hagerstrand-0.0.7.tar.gz"
      ],
      "execution_count": 2,
      "outputs": [
        {
          "output_type": "stream",
          "text": [
            "cb23474aa6cdc91d3097d0319bbe654c747db0342f07a1d8cc27f30ec2780888  hagerstrand-0.0.7.tar.gz\n"
          ],
          "name": "stdout"
        }
      ]
    },
    {
      "cell_type": "code",
      "metadata": {
        "id": "cYzDumdwIWuq"
      },
      "source": [
        ""
      ],
      "execution_count": null,
      "outputs": []
    },
    {
      "cell_type": "code",
      "metadata": {
        "id": "HA-P8JpXIUru"
      },
      "source": [
        ""
      ],
      "execution_count": null,
      "outputs": []
    }
  ]
}