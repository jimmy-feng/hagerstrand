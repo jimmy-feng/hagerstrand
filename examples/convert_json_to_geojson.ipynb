{
 "cells": [
  {
   "cell_type": "code",
   "execution_count": 6,
   "metadata": {},
   "outputs": [],
   "source": [
    "import datetime\n",
    "import json\n",
    "import os\n",
    "from hagerstrand.hagerstrand import Map, gmapjson_to_geojson"
   ]
  },
  {
   "cell_type": "code",
   "execution_count": 7,
   "metadata": {},
   "outputs": [],
   "source": [
    "m = Map()"
   ]
  },
  {
   "cell_type": "code",
   "execution_count": 9,
   "metadata": {
    "scrolled": false
   },
   "outputs": [
    {
     "ename": "NameError",
     "evalue": "name 'out_geojson' is not defined",
     "output_type": "error",
     "traceback": [
      "\u001b[1;31m---------------------------------------------------------------------------\u001b[0m",
      "\u001b[1;31mNameError\u001b[0m                                 Traceback (most recent call last)",
      "\u001b[1;32m<ipython-input-9-a9df03166a5e>\u001b[0m in \u001b[0;36m<module>\u001b[1;34m\u001b[0m\n\u001b[1;32m----> 1\u001b[1;33m \u001b[0mm\u001b[0m\u001b[1;33m.\u001b[0m\u001b[0madd_gmapjson\u001b[0m\u001b[1;33m(\u001b[0m\u001b[1;34m\"C:/Users/jfeng/hagerstrand/examples/LocationHistory.json\"\u001b[0m\u001b[1;33m)\u001b[0m\u001b[1;33m\u001b[0m\u001b[1;33m\u001b[0m\u001b[0m\n\u001b[0m",
      "\u001b[1;32mc:\\users\\jfeng\\hagerstrand\\hagerstrand\\hagerstrand.py\u001b[0m in \u001b[0;36madd_gmapjson\u001b[1;34m(self, in_json, style, layer_name)\u001b[0m\n\u001b[0;32m    101\u001b[0m     \u001b[1;32mdef\u001b[0m \u001b[0madd_gmapjson\u001b[0m\u001b[1;33m(\u001b[0m\u001b[0mself\u001b[0m\u001b[1;33m,\u001b[0m \u001b[0min_json\u001b[0m\u001b[1;33m,\u001b[0m \u001b[0mstyle\u001b[0m\u001b[1;33m=\u001b[0m\u001b[1;32mNone\u001b[0m\u001b[1;33m,\u001b[0m \u001b[0mlayer_name\u001b[0m\u001b[1;33m=\u001b[0m\u001b[1;34m\"Untitled\"\u001b[0m\u001b[1;33m)\u001b[0m\u001b[1;33m:\u001b[0m\u001b[1;33m\u001b[0m\u001b[1;33m\u001b[0m\u001b[0m\n\u001b[0;32m    102\u001b[0m \u001b[1;33m\u001b[0m\u001b[0m\n\u001b[1;32m--> 103\u001b[1;33m         \u001b[0mgeojson\u001b[0m \u001b[1;33m=\u001b[0m \u001b[0mgmapjson_to_geojson\u001b[0m\u001b[1;33m(\u001b[0m\u001b[0min_json\u001b[0m\u001b[1;33m)\u001b[0m\u001b[1;33m\u001b[0m\u001b[1;33m\u001b[0m\u001b[0m\n\u001b[0m\u001b[0;32m    104\u001b[0m         \u001b[0mself\u001b[0m\u001b[1;33m.\u001b[0m\u001b[0madd_geojson\u001b[0m\u001b[1;33m(\u001b[0m\u001b[0mgeojson\u001b[0m\u001b[1;33m,\u001b[0m \u001b[0mstyle\u001b[0m\u001b[1;33m=\u001b[0m\u001b[0mstyle\u001b[0m\u001b[1;33m,\u001b[0m \u001b[0mlayer_name\u001b[0m\u001b[1;33m=\u001b[0m\u001b[0mlayer_name\u001b[0m\u001b[1;33m)\u001b[0m\u001b[1;33m\u001b[0m\u001b[1;33m\u001b[0m\u001b[0m\n\u001b[0;32m    105\u001b[0m \u001b[1;33m\u001b[0m\u001b[0m\n",
      "\u001b[1;32mc:\\users\\jfeng\\hagerstrand\\hagerstrand\\hagerstrand.py\u001b[0m in \u001b[0;36mgmapjson_to_geojson\u001b[1;34m(in_gmapjson, out_gmapgeojson)\u001b[0m\n\u001b[0;32m    161\u001b[0m     }\n\u001b[0;32m    162\u001b[0m \u001b[1;33m\u001b[0m\u001b[0m\n\u001b[1;32m--> 163\u001b[1;33m     \u001b[1;32mif\u001b[0m \u001b[0mout_gmapgeojson\u001b[0m \u001b[1;32mis\u001b[0m \u001b[1;32mNone\u001b[0m\u001b[1;33m:\u001b[0m\u001b[1;33m\u001b[0m\u001b[1;33m\u001b[0m\u001b[0m\n\u001b[0m\u001b[0;32m    164\u001b[0m         \u001b[1;32mreturn\u001b[0m \u001b[0mgeojson\u001b[0m\u001b[1;33m\u001b[0m\u001b[1;33m\u001b[0m\u001b[0m\n\u001b[0;32m    165\u001b[0m     \u001b[1;32melse\u001b[0m\u001b[1;33m:\u001b[0m\u001b[1;33m\u001b[0m\u001b[1;33m\u001b[0m\u001b[0m\n",
      "\u001b[1;31mNameError\u001b[0m: name 'out_geojson' is not defined"
     ]
    }
   ],
   "source": [
    "m.add_gmapjson(\"C:/Users/jfeng/hagerstrand/examples/LocationHistory.json\")"
   ]
  },
  {
   "cell_type": "code",
   "execution_count": null,
   "metadata": {},
   "outputs": [],
   "source": [
    "with open(\"C:/Users/jfeng/hagerstrand/examples/LocationHistory.json\") as f:\n",
    "    data = json.load(f)"
   ]
  },
  {
   "cell_type": "code",
   "execution_count": null,
   "metadata": {},
   "outputs": [],
   "source": [
    "with open(\"C:/Users/jfeng/hagerstrand/examples/LocationHistory.json\") as f:\n",
    "    data = [json.load(f)]\n",
    "data"
   ]
  },
  {
   "cell_type": "code",
   "execution_count": null,
   "metadata": {},
   "outputs": [],
   "source": [
    "data[0][\"locations\"]"
   ]
  },
  {
   "cell_type": "code",
   "execution_count": null,
   "metadata": {},
   "outputs": [],
   "source": [
    "for key, value in data.items():\n",
    "    for item in value:\n",
    "        item[\"latitudeE7\"] = item[\"latitudeE7\"] * 0.0000001\n",
    "        item[\"longitudeE7\"] = item[\"longitudeE7\"] * 0.0000001\n",
    "        item[\"timestampMs\"] = datetime.datetime.fromtimestamp(int(item[\"timestampMs\"])/1000.0)\n",
    "        item[\"timestampMs\"] = item[\"timestampMs\"].strftime('%Y-%m-%d %H:%M:%S')"
   ]
  },
  {
   "cell_type": "code",
   "execution_count": null,
   "metadata": {},
   "outputs": [],
   "source": [
    "for item in data[0][\"locations\"]:\n",
    "    item[\"latitudeE7\"] = item[\"latitudeE7\"] * 0.0000001\n",
    "    item[\"longitudeE7\"] = item[\"longitudeE7\"] * 0.0000001\n",
    "    item[\"timestampMs\"] = datetime.datetime.fromtimestamp(int(item[\"timestampMs\"])/1000.0)\n",
    "    item[\"timestampMs\"] = item[\"timestampMs\"].strftime('%Y-%m-%d %H:%M:%S')"
   ]
  },
  {
   "cell_type": "code",
   "execution_count": null,
   "metadata": {},
   "outputs": [],
   "source": [
    "data[0][\"locations\"]"
   ]
  },
  {
   "cell_type": "code",
   "execution_count": null,
   "metadata": {},
   "outputs": [],
   "source": [
    "data_intermediate = data[0][\"locations\"]"
   ]
  },
  {
   "cell_type": "code",
   "execution_count": null,
   "metadata": {},
   "outputs": [],
   "source": [
    "for d in data_intermediate:\n",
    "    print(d)\n",
    "    break"
   ]
  },
  {
   "cell_type": "code",
   "execution_count": null,
   "metadata": {},
   "outputs": [],
   "source": [
    "geojson = {\n",
    "    \"type\": \"FeatureCollection\",\n",
    "    \"features\": [\n",
    "    {\n",
    "        \"type\": \"Feature\",\n",
    "        \"geometry\" : {\n",
    "            \"type\": \"Point\",\n",
    "            \"coordinates\": [d[\"longitudeE7\"], d[\"latitudeE7\"]],\n",
    "            },\n",
    "        \"properties\" : d,\n",
    "     } for d in data_intermediate]\n",
    "}"
   ]
  },
  {
   "cell_type": "code",
   "execution_count": null,
   "metadata": {},
   "outputs": [],
   "source": [
    "geojson"
   ]
  },
  {
   "cell_type": "code",
   "execution_count": null,
   "metadata": {
    "scrolled": true
   },
   "outputs": [],
   "source": [
    "gmapjson_to_geojson(\"C:/Users/jfeng/hagerstrand/examples/LocationHistory.json\")"
   ]
  },
  {
   "cell_type": "code",
   "execution_count": null,
   "metadata": {},
   "outputs": [],
   "source": [
    "def gmapjson_to_geojson(in_gmapjson, out_geojson=None):\n",
    "\n",
    "    import json\n",
    "    import datetime\n",
    "    \n",
    "    in_gmapjson = os.path.abspath(in_gmapjson)\n",
    "\n",
    "    if not os.path.exists(in_gmapjson):\n",
    "       raise FileNotFoundError(\"The provided json could not be found.\")\n",
    "\n",
    "    with open(in_gmapjson) as f:\n",
    "        data = json.load(f)\n",
    "    \n",
    "    for item in data[\"locations\"]:\n",
    "        item[\"latitudeE7\"] = item[\"latitudeE7\"] * 0.0000001\n",
    "        item[\"longitudeE7\"] = item[\"longitudeE7\"] * 0.0000001\n",
    "        item[\"timestampMs\"] = datetime.datetime.fromtimestamp(int(item[\"timestampMs\"])/1000.0)\n",
    "        item[\"timestampMs\"] = item[\"timestampMs\"].strftime('%Y-%m-%d %H:%M:%S') \n",
    "    \n",
    "    data_intermediate = data[\"locations\"]\n",
    "\n",
    "    geojson = {\n",
    "        \"type\": \"FeatureCollection\",\n",
    "        \"features\": [\n",
    "        {\n",
    "            \"type\": \"Feature\",\n",
    "            \"geometry\" : {\n",
    "                \"type\": \"Point\",\n",
    "                \"coordinates\": [d[\"longitudeE7\"], d[\"latitudeE7\"]],\n",
    "                },\n",
    "            \"properties\" : d,\n",
    "        } for d in data_intermediate]\n",
    "    }\n",
    "\n",
    "    if out_geojson is None:\n",
    "        return geojson\n",
    "    else:\n",
    "        out_geojson = os.path.abspath(out_geojson)\n",
    "        out_dir = os.path.dirname(out_geojson)\n",
    "        if not os.path.exists(out_dir):\n",
    "            os.makedirs(out_dir)\n",
    "        with open(out_geojson, \"w\") as f:\n",
    "            f.write(json.dumps(geojson)) "
   ]
  },
  {
   "cell_type": "code",
   "execution_count": null,
   "metadata": {},
   "outputs": [],
   "source": [
    "gmapjson_to_geojson(\"C:/Users/jfeng/hagerstrand/examples/LocationHistory.json\")"
   ]
  },
  {
   "cell_type": "code",
   "execution_count": null,
   "metadata": {},
   "outputs": [],
   "source": []
  }
 ],
 "metadata": {
  "kernelspec": {
   "display_name": "Python 3",
   "language": "python",
   "name": "python3"
  },
  "language_info": {
   "codemirror_mode": {
    "name": "ipython",
    "version": 3
   },
   "file_extension": ".py",
   "mimetype": "text/x-python",
   "name": "python",
   "nbconvert_exporter": "python",
   "pygments_lexer": "ipython3",
   "version": "3.8.5"
  }
 },
 "nbformat": 4,
 "nbformat_minor": 4
}
