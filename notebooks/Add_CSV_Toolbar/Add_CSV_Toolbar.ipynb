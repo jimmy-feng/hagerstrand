{
 "cells": [
  {
   "cell_type": "code",
   "execution_count": 4,
   "id": "sonic-second",
   "metadata": {},
   "outputs": [
    {
     "data": {
      "text/html": [
       "<video src=\"../../examples/videos/add_csv_toolbar.mp4\" controls  width=\"750\"  height=\"500\">\n",
       "      Your browser does not support the <code>video</code> element.\n",
       "    </video>"
      ],
      "text/plain": [
       "<IPython.core.display.Video object>"
      ]
     },
     "execution_count": 4,
     "metadata": {},
     "output_type": "execute_result"
    }
   ],
   "source": [
    "from IPython.display import Video\n",
    "\n",
    "Video(r\"../../examples/videos/add_csv_toolbar.mp4\", height=500, width=750)"
   ]
  },
  {
   "cell_type": "code",
   "execution_count": 1,
   "id": "circular-nebraska",
   "metadata": {},
   "outputs": [],
   "source": [
    "import hagerstrand as hs"
   ]
  },
  {
   "cell_type": "code",
   "execution_count": 2,
   "id": "lovely-saturn",
   "metadata": {},
   "outputs": [],
   "source": [
    "Map_hs = hs.Map()"
   ]
  },
  {
   "cell_type": "code",
   "execution_count": 3,
   "id": "essential-exclusion",
   "metadata": {
    "scrolled": false
   },
   "outputs": [
    {
     "data": {
      "application/vnd.jupyter.widget-view+json": {
       "model_id": "6769d57f77374a98a10617d3d2f5adaa",
       "version_major": 2,
       "version_minor": 0
      },
      "text/plain": [
       "Map(center=[40, -100], controls=(ZoomControl(options=['position', 'zoom_in_text', 'zoom_in_title', 'zoom_out_t…"
      ]
     },
     "metadata": {},
     "output_type": "display_data"
    }
   ],
   "source": [
    "Map_hs"
   ]
  }
 ],
 "metadata": {
  "kernelspec": {
   "display_name": "Python 3",
   "language": "python",
   "name": "python3"
  },
  "language_info": {
   "codemirror_mode": {
    "name": "ipython",
    "version": 3
   },
   "file_extension": ".py",
   "mimetype": "text/x-python",
   "name": "python",
   "nbconvert_exporter": "python",
   "pygments_lexer": "ipython3",
   "version": "3.8.5"
  }
 },
 "nbformat": 4,
 "nbformat_minor": 5
}
